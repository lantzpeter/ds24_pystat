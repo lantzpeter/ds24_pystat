{
 "cells": [
  {
   "cell_type": "markdown",
   "id": "dacf74e6",
   "metadata": {},
   "source": [
    "# NumPy"
   ]
  },
  {
   "cell_type": "markdown",
   "id": "01b2bf34",
   "metadata": {},
   "source": [
    "Read the links: https://numpy.org/doc/stable/user/quickstart.html  and https://numpy.org/doc/stable/user/basics.broadcasting.html  before solving the exercises. "
   ]
  },
  {
   "cell_type": "code",
   "execution_count": 7,
   "id": "1f79e4a6",
   "metadata": {},
   "outputs": [],
   "source": [
    "import numpy as np"
   ]
  },
  {
   "cell_type": "markdown",
   "id": "7dae6889",
   "metadata": {},
   "source": [
    "### Print out the dimension (number of axes), shape, size and the datatype of the matrix A."
   ]
  },
  {
   "cell_type": "code",
   "execution_count": 8,
   "id": "7b3678cd",
   "metadata": {},
   "outputs": [],
   "source": [
    "A = np.arange(1, 16).reshape(3,5)"
   ]
  },
  {
   "cell_type": "code",
   "execution_count": 16,
   "id": "31d39235",
   "metadata": {},
   "outputs": [
    {
     "name": "stdout",
     "output_type": "stream",
     "text": [
      "2\n",
      "(3, 5)\n",
      "15\n",
      "int32\n"
     ]
    }
   ],
   "source": [
    "print(A.ndim)\n",
    "print(A.shape)\n",
    "print(A.size)\n",
    "print(A.dtype)"
   ]
  },
  {
   "cell_type": "markdown",
   "id": "e56d2a96",
   "metadata": {},
   "source": [
    "### Do the following computations on the matrices B and C: \n",
    "* Elementwise subtraction. \n",
    "* Elementwise multiplication. \n",
    "* Matrix multiplication (by default you should use the @ operator)."
   ]
  },
  {
   "cell_type": "code",
   "execution_count": 17,
   "id": "a7053fbb",
   "metadata": {},
   "outputs": [
    {
     "name": "stdout",
     "output_type": "stream",
     "text": [
      "[[1 2 3]\n",
      " [4 5 6]\n",
      " [7 8 9]]\n",
      "\n",
      "[[2. 2. 2.]\n",
      " [2. 2. 2.]\n",
      " [2. 2. 2.]]\n"
     ]
    }
   ],
   "source": [
    "B = np.arange(1, 10).reshape(3, 3)\n",
    "C = np.ones((3, 3))*2\n",
    "\n",
    "print(B)\n",
    "print()\n",
    "print(C)"
   ]
  },
  {
   "cell_type": "code",
   "execution_count": 18,
   "id": "3cd794ae",
   "metadata": {},
   "outputs": [
    {
     "data": {
      "text/plain": [
       "array([[-1.,  0.,  1.],\n",
       "       [ 2.,  3.,  4.],\n",
       "       [ 5.,  6.,  7.]])"
      ]
     },
     "execution_count": 18,
     "metadata": {},
     "output_type": "execute_result"
    }
   ],
   "source": [
    "B - C"
   ]
  },
  {
   "cell_type": "code",
   "execution_count": 19,
   "id": "8a51b133",
   "metadata": {},
   "outputs": [
    {
     "data": {
      "text/plain": [
       "array([[ 2.,  4.,  6.],\n",
       "       [ 8., 10., 12.],\n",
       "       [14., 16., 18.]])"
      ]
     },
     "execution_count": 19,
     "metadata": {},
     "output_type": "execute_result"
    }
   ],
   "source": [
    "B * C"
   ]
  },
  {
   "cell_type": "code",
   "execution_count": 21,
   "id": "800348eb",
   "metadata": {},
   "outputs": [
    {
     "data": {
      "text/plain": [
       "array([[12., 12., 12.],\n",
       "       [30., 30., 30.],\n",
       "       [48., 48., 48.]])"
      ]
     },
     "execution_count": 21,
     "metadata": {},
     "output_type": "execute_result"
    }
   ],
   "source": [
    "B @ C"
   ]
  },
  {
   "cell_type": "markdown",
   "id": "96030d53",
   "metadata": {},
   "source": [
    "### Do the following calculations on the matrix:\n",
    "* Exponentiate each number elementwise (use the np.exp function).\n",
    "\n",
    "* Calculate the minimum value in the whole matrix. \n",
    "* Calculcate the minimum value in each row. \n",
    "* Calculcate the minimum value in each column. \n",
    "\n",
    "\n",
    "* Find the index value for the minimum value in the whole matrix (hint: use np.argmin).\n",
    "* Find the index value for the minimum value in each row (hint: use np.argmin).\n",
    "\n",
    "\n",
    "* Calculate the sum for all elements.\n",
    "* Calculate the mean for each column. \n",
    "* Calculate the median for each column. "
   ]
  },
  {
   "cell_type": "code",
   "execution_count": null,
   "id": "f8a9166b",
   "metadata": {},
   "outputs": [],
   "source": [
    "B = np.arange(1, 10).reshape(3, 3)\n",
    "print(B)"
   ]
  },
  {
   "cell_type": "code",
   "execution_count": 52,
   "id": "f03f24f7",
   "metadata": {},
   "outputs": [
    {
     "name": "stdout",
     "output_type": "stream",
     "text": [
      "[[2.71828183e+00 7.38905610e+00 2.00855369e+01]\n",
      " [5.45981500e+01 1.48413159e+02 4.03428793e+02]\n",
      " [1.09663316e+03 2.98095799e+03 8.10308393e+03]]\n",
      "The minimum value in matrix is 1\n",
      "[1 4 7]\n",
      "[1 2 3]\n",
      "0\n",
      "[0 0 0]\n",
      "Sum of matrix is 45\n",
      "The mean for each column is [4. 5. 6.]\n",
      "The median for each column is [4. 5. 6.]\n"
     ]
    }
   ],
   "source": [
    "print(np.exp(B))\n",
    "print(f\"The minimum value in matrix is {B.min()}\")\n",
    "print(B.min(axis=1))\n",
    "print(B.min(axis=0))\n",
    "print(np.argmin(B))\n",
    "print(np.argmin(B, axis=1))\n",
    "print(f\"Sum of matrix is {B.sum()}\")\n",
    "print(f\"The mean for each column is {B.mean(axis=0)}\")\n",
    "print(f\"The median for each column is {np.median(B, axis=0)}\")"
   ]
  },
  {
   "cell_type": "markdown",
   "id": "541eb7ba",
   "metadata": {},
   "source": [
    "### What does it mean when you provide fewer indices than axes when slicing? See example below."
   ]
  },
  {
   "cell_type": "code",
   "execution_count": 53,
   "id": "9c8abf56",
   "metadata": {},
   "outputs": [
    {
     "name": "stdout",
     "output_type": "stream",
     "text": [
      "[[ 1  2  3  4  5]\n",
      " [ 6  7  8  9 10]\n",
      " [11 12 13 14 15]]\n"
     ]
    }
   ],
   "source": [
    "print(A)"
   ]
  },
  {
   "cell_type": "code",
   "execution_count": 54,
   "id": "69415f7b",
   "metadata": {},
   "outputs": [
    {
     "data": {
      "text/plain": [
       "array([ 6,  7,  8,  9, 10])"
      ]
     },
     "execution_count": 54,
     "metadata": {},
     "output_type": "execute_result"
    }
   ],
   "source": [
    "A[1]"
   ]
  },
  {
   "cell_type": "markdown",
   "id": "6c53541b",
   "metadata": {},
   "source": [
    "**Answer:**"
   ]
  },
  {
   "cell_type": "markdown",
   "id": "de01e120",
   "metadata": {},
   "source": [
    "I och med att man inte anger fler index så blir det inte lika specifikt och då antar Numpy att man vill komma åt alla värden i det index som anges."
   ]
  },
  {
   "cell_type": "markdown",
   "id": "6652d0c9",
   "metadata": {},
   "source": [
    "### Iterating over multidimensional arrays is done with respect to the first axis, so in the example below we iterate trough the rows. If you would like to iterate through the array *elementwise*, how would you do that?"
   ]
  },
  {
   "cell_type": "code",
   "execution_count": 58,
   "id": "9459864f",
   "metadata": {},
   "outputs": [
    {
     "data": {
      "text/plain": [
       "array([[ 1,  2,  3,  4,  5],\n",
       "       [ 6,  7,  8,  9, 10],\n",
       "       [11, 12, 13, 14, 15]])"
      ]
     },
     "execution_count": 58,
     "metadata": {},
     "output_type": "execute_result"
    }
   ],
   "source": [
    "A"
   ]
  },
  {
   "cell_type": "code",
   "execution_count": 57,
   "id": "a671bb5a",
   "metadata": {},
   "outputs": [
    {
     "name": "stdout",
     "output_type": "stream",
     "text": [
      "[1 2 3 4 5]\n",
      "[ 6  7  8  9 10]\n",
      "[11 12 13 14 15]\n"
     ]
    }
   ],
   "source": [
    "for i in A:\n",
    "    print(i)"
   ]
  },
  {
   "cell_type": "code",
   "execution_count": 59,
   "id": "f4e443a0",
   "metadata": {},
   "outputs": [
    {
     "name": "stdout",
     "output_type": "stream",
     "text": [
      "1\n",
      "2\n",
      "3\n",
      "4\n",
      "5\n",
      "6\n",
      "7\n",
      "8\n",
      "9\n",
      "10\n",
      "11\n",
      "12\n",
      "13\n",
      "14\n",
      "15\n"
     ]
    }
   ],
   "source": [
    "for element in A.flat:\n",
    "    print(element)"
   ]
  },
  {
   "cell_type": "markdown",
   "id": "608a2583",
   "metadata": {},
   "source": [
    "### Explain what the code below does. More specifically, b has three axes - what does this mean? "
   ]
  },
  {
   "cell_type": "code",
   "execution_count": 60,
   "id": "f8f9b26f",
   "metadata": {},
   "outputs": [
    {
     "name": "stdout",
     "output_type": "stream",
     "text": [
      "[ 0  1  2  3  4  5  6  7  8  9 10 11 12 13 14 15 16 17 18 19 20 21 22 23\n",
      " 24 25 26 27 28 29]\n",
      "\n",
      "[[[ 0  1  2  3  4]\n",
      "  [ 5  6  7  8  9]\n",
      "  [10 11 12 13 14]]\n",
      "\n",
      " [[15 16 17 18 19]\n",
      "  [20 21 22 23 24]\n",
      "  [25 26 27 28 29]]]\n"
     ]
    }
   ],
   "source": [
    "a = np.arange(30)\n",
    "b = a.reshape((2, 3, -1))\n",
    "print(a)\n",
    "print()\n",
    "\n",
    "print(b)"
   ]
  },
  {
   "cell_type": "markdown",
   "id": "863a45df",
   "metadata": {},
   "source": [
    "I koden skapas en array med 30 värden från 0 - 29. Sedan skapas en variabel b som skall motsvara variabel a(array) med de 30 elementen. Dessa skall sättas in i de två matriser som nu skapas, där varje matris skall bestå av 3 rader. -1 i uttrycket medför att Numpy auomatiskt räknar ut hur många kolumner som behöver skapas i varje matris för att kunna stoppa in alla de 30 elementen vilket i vårt fall blir 5 kolumner. Så dimensionen blir 2 matriser med vardera 3 rader och 5 kolumner."
   ]
  },
  {
   "cell_type": "markdown",
   "id": "ab5933d5",
   "metadata": {},
   "source": [
    "### Broadcasting\n",
    "**Read the following link about broadcasting: https://numpy.org/doc/stable/user/basics.broadcasting.html#basics-broadcasting**"
   ]
  },
  {
   "cell_type": "markdown",
   "id": "039805ba",
   "metadata": {},
   "source": [
    "# Remark on Broadcasting when doing Linear Algebra calculations in Python. "
   ]
  },
  {
   "cell_type": "markdown",
   "id": "c4bcc147",
   "metadata": {},
   "source": [
    "### From the mathematical rules of matrix addition, the operation below (m1 + m2) does not make sense. The reason is that matrix addition requires two matrices of the same size. In Python however, it works due to broadcasting rules in NumPy. So you must be careful when doing Linear Algebra calculations in Python since they do not follow the \"mathematical rules\". This can however easily be handled by doing some simple programming, for example validating that two matrices have the same shape is easy if you for instance want to add two matrices. "
   ]
  },
  {
   "cell_type": "code",
   "execution_count": 61,
   "id": "1fd46778",
   "metadata": {},
   "outputs": [
    {
     "name": "stdout",
     "output_type": "stream",
     "text": [
      "[[2 3]\n",
      " [4 5]]\n"
     ]
    }
   ],
   "source": [
    "# m1 = np.array([[1, 2], [3, 4]])\n",
    "# m2 = np.array([1, 1])\n",
    "# print(m1 + m2)"
   ]
  },
  {
   "cell_type": "markdown",
   "id": "047d6576",
   "metadata": {},
   "source": [
    "### The example below would also not be allowed if following the \"mathematical rules\" in Linear Algebra. But it works due to broadcasting in NumPy. "
   ]
  },
  {
   "cell_type": "code",
   "execution_count": 62,
   "id": "5e6ef2e4",
   "metadata": {},
   "outputs": [
    {
     "name": "stdout",
     "output_type": "stream",
     "text": [
      "[2 3 4]\n"
     ]
    }
   ],
   "source": [
    "v1 = np.array([1, 2, 3])\n",
    "print(v1 + 1)"
   ]
  },
  {
   "cell_type": "code",
   "execution_count": 63,
   "id": "e2cbae26",
   "metadata": {},
   "outputs": [
    {
     "name": "stdout",
     "output_type": "stream",
     "text": [
      "[[1 2]\n",
      " [3 4]]\n",
      "[2 2]\n"
     ]
    }
   ],
   "source": [
    "A = np.arange(1, 5).reshape(2,2)\n",
    "print(A)\n",
    "\n",
    "b = np.array([2, 2])\n",
    "print(b)"
   ]
  },
  {
   "cell_type": "markdown",
   "id": "722fd5cd",
   "metadata": {},
   "source": [
    "# Vector- and matrix algebra Exercises"
   ]
  },
  {
   "cell_type": "markdown",
   "id": "b63a3081-d976-4d9f-bfd0-a63917e79f7d",
   "metadata": {},
   "source": [
    "**Now you are going to create a function that can be reused every time you add or multiply matrices. The function is created so that we do the addition and multiplication according to the rules of vector- and matrix algebra.**\n",
    "\n",
    "**Create a function \"add_mult_matrices\" that takes two matrices as input arguments (validate that the input are of the type numpy.ndarray by using the isinstance function), a third argument that is either 'add' or 'multiply' that specifies if you want to add or multiply the matrices (validate that the third argument is either 'add' or 'multiply'). When doing matrix addition, validate that the matrices have the same size. When doing matrix multiplication, validate that the sizes conform (i.e. number of columns in the first matrix is equal to the number of rows in the second matrix).**"
   ]
  },
  {
   "cell_type": "code",
   "execution_count": 156,
   "id": "3506f977-ac0a-473f-85bc-eec9f35dc498",
   "metadata": {},
   "outputs": [],
   "source": [
    "def add_mult_matrices(A, B, operation):\n",
    "     if isinstance(A, np.ndarray) and isinstance(B, np.ndarray):\n",
    "     \n",
    "        if operation == \"add\":\n",
    "            if A.shape == B.shape: #Kontrollera dimension innan addition\n",
    "                return A + B\n",
    "            else:\n",
    "                return \"Not defined\"\n",
    "\n",
    "        elif operation == \"multiply\":\n",
    "            if A.shape[1] == B.shape[0]: #Kontrollera dimensioner innan multiplikation av matriser\n",
    "                return A @ B\n",
    "            else:\n",
    "                return \"Not defined\"\n",
    "        \n",
    "        else:\n",
    "            return \"Choose either 'add' or 'multiply'.\"\n",
    "        \n",
    "     else:\n",
    "         return \"A or B is not an np.ndarray\""
   ]
  },
  {
   "cell_type": "markdown",
   "id": "8dad82d0-2359-4dff-8f5b-a57d3e34103c",
   "metadata": {},
   "source": [
    "### Solve all the exercises in chapter 10.1 in the book \"Matematik för yrkeshögskolan\". "
   ]
  },
  {
   "cell_type": "code",
   "execution_count": 101,
   "id": "89df88af-3668-4d98-a0a4-e6d92eea0f89",
   "metadata": {},
   "outputs": [
    {
     "name": "stdout",
     "output_type": "stream",
     "text": [
      "Uppgift 10.1.1\n",
      "a.) Dimensionen är 1 x 2\n",
      "b.) [20 15]\n",
      "c.) [12  9]\n",
      "d.) [32 24]\n",
      "e.) [32 24]\n",
      "f.) [12  9]\n",
      "g.) [4, 3] får dimension 2x1\n",
      "h.) Nej, eftersom dem inte har samma dimensioner.\n",
      "i.) 5.0\n"
     ]
    }
   ],
   "source": [
    "print(\"Uppgift 10.1.1\")\n",
    "x = np.array([4, 3])\n",
    "# 10.1.1\n",
    "# a) vilken dimension har vektorn?\n",
    "print(\"a.)\", \"Dimensionen är 1 x 2\")\n",
    "\n",
    "# b) Beräkna 5x\n",
    "print(\"b.)\", x * 5)\n",
    "\n",
    "# c) Beräkna 3x\n",
    "print(\"c.)\", x * 3)\n",
    "\n",
    "# d) Beräkna 5x + 3x\n",
    "print(\"d.)\", x*5 + 3*x)\n",
    "\n",
    "# e) Beräkna 8x\n",
    "print(\"e.)\", x * 8)\n",
    "\n",
    "# f) Beräkna 4x - x\n",
    "print(\"f.)\", 4*x - x)\n",
    "\n",
    "# g) Beräkna x^T\n",
    "print(\"g.)\", \"[4, 3] får dimension 2x1\")\n",
    "\n",
    "# h) Är x + x*t definierat?\n",
    "print(\"h.)\", \"Nej, eftersom dem inte har samma dimensioner.\")\n",
    "\n",
    "# i) Beräkna ||x||\n",
    "print(\"i.)\", np.linalg.norm(x))\n"
   ]
  },
  {
   "cell_type": "code",
   "execution_count": 111,
   "id": "4f01d647",
   "metadata": {},
   "outputs": [
    {
     "name": "stdout",
     "output_type": "stream",
     "text": [
      "Uppgift 10.1.2\n",
      "a.) Dimensionen är 4 x 1\n",
      "b.)\n",
      " [[ 6]\n",
      " [14]\n",
      " [ 0]\n",
      " [22]]\n",
      "c.)\n",
      " [[21]\n",
      " [49]\n",
      " [ 0]\n",
      " [77]]\n",
      "[[ 3  7  0 11]]\n",
      "e.)\n",
      " [[24]\n",
      " [56]\n",
      " [ 0]\n",
      " [88]]\n",
      "f.) kvadratroten 179, 13.379088160259652\n"
     ]
    }
   ],
   "source": [
    "print(\"Uppgift 10.1.2\")\n",
    "v = np.array([[3], [7], [0], [11]])\n",
    "# 10.1.2\n",
    "# a) vilken dimension har vektorn?\n",
    "print(\"a.)\", \"Dimensionen är 4 x 1\")\n",
    "\n",
    "# b) Beräkna 2v\n",
    "print(\"b.)\\n\", v * 2)\n",
    "\n",
    "# c) Beräkna 5v + 2v\n",
    "print(\"c.)\\n\", v*5 + v*2)\n",
    "\n",
    "# d) Beräkna 4v - 2v\n",
    "print(v.reshape(1, 4))\n",
    "\n",
    "# e) Beräkna 8x\n",
    "print(\"e.)\\n\", x * 8)\n",
    "\n",
    "# f) Beräkna ||v||\n",
    "print(\"f.)\", \"kvadratroten 179,\", np.linalg.norm(v))"
   ]
  },
  {
   "cell_type": "code",
   "execution_count": 118,
   "id": "f6591273",
   "metadata": {},
   "outputs": [
    {
     "name": "stdout",
     "output_type": "stream",
     "text": [
      "Uppgift 10.1.3\n",
      "a.) kvadratroten 51, 7.14142842854285\n",
      "b.) kvadratroten 20 = 2 kvadratroten 5, 4.47213595499958\n"
     ]
    }
   ],
   "source": [
    "print(\"Uppgift 10.1.3\")\n",
    "v1 = np.array([4, 3, 1, 5])\n",
    "v2 = np.array([2, 3, 1, 1])\n",
    "# 10.1.3\n",
    "# a) Beräkna ||v1||\n",
    "print(\"a.)\", \"kvadratroten 51,\", np.linalg.norm(v1))\n",
    "\n",
    "# b) Beräkna ||v1 - v2||\n",
    "print(\"b.)\", \"kvadratroten 20 = 2 kvadratroten 5,\", np.linalg.norm(v1 - v2))"
   ]
  },
  {
   "cell_type": "markdown",
   "id": "75c98984-1f88-4df1-b850-d2466de444a5",
   "metadata": {},
   "source": [
    "### Solve all the exercises, except 10.2.4, in chapter 10.2 in the book \"Matematik för yrkeshögskolan\". "
   ]
  },
  {
   "cell_type": "code",
   "execution_count": 136,
   "id": "65371610-16e1-48b2-b7fb-65e49002608a",
   "metadata": {},
   "outputs": [],
   "source": [
    "A = np.array([[2, 1, -1], [1, -1, 1]])\n",
    "B = np.array([[4, -2, 1], [2, -4, -2]])\n",
    "C = np.array([[1, 2], [2, 1]])\n",
    "D = np.array([[3, 4], [4, 3]])\n",
    "E = np.array([[1], [2]])\n",
    "I = np.array([[1, 0], [0, 1]])"
   ]
  },
  {
   "cell_type": "code",
   "execution_count": 161,
   "id": "32886b21",
   "metadata": {},
   "outputs": [
    {
     "name": "stdout",
     "output_type": "stream",
     "text": [
      "Uppgift 10.2.1\n",
      "a.\n",
      " [[ 4  2 -2]\n",
      " [ 2 -2  2]]\n",
      "b.)\n",
      " [[ 0 -4  3]\n",
      " [ 0 -2 -4]]\n",
      "c.) Ej definierad\n",
      "d.)\n",
      " [[3 2]\n",
      " [2 3]]\n",
      "e.)\n",
      " [[ 9 12]\n",
      " [12  9]]\n",
      "f.)\n",
      " [[-4 -4]\n",
      " [-4 -4]]\n",
      "g.) Ej definierad\n",
      "h.) Ej definierad eftersom antalet kolumner i A inte matchar antalet rader i C.\n",
      "i.)\n",
      " [[11 10]\n",
      " [10 11]]\n",
      "j.)\n",
      " [[  8 -10  -3]\n",
      " [ 10  -8   0]]\n",
      "k.)\n",
      " [[1 2]\n",
      " [2 1]]\n",
      "l.)\n",
      " [[5 2]\n",
      " [7 4]]\n"
     ]
    }
   ],
   "source": [
    "print(\"Uppgift 10.2.1\")\n",
    "# 10.2.1\n",
    "# a) 2A\n",
    "print(\"a.\\n\",2 * A)\n",
    "#print(add_mult_matrices())\n",
    "\n",
    "# b) B - 2A\n",
    "print(\"b.)\\n\", B - 2*A)\n",
    "\n",
    "# c) Beräkna 3C - 2E\n",
    "print(\"c.) Ej definierad\")\n",
    "\n",
    "# d) 2D - 3C\n",
    "print(\"d.)\\n\", 2*D - 3*C)\n",
    "\n",
    "# e) D^t + 2D\n",
    "print(\"e.)\\n\", D.T + 2*D)\n",
    "\n",
    "# f) 2C^t - 2D^T\n",
    "print(\"f.)\\n\", 2*C.T - 2*D.T)\n",
    "\n",
    "# g) A^T - B\n",
    "print(\"g.) Ej definierad\")\n",
    "\n",
    "# h) AC\n",
    "print(\"h.) Ej definierad eftersom antalet kolumner i A inte matchar antalet rader i C.\")\n",
    "\n",
    "# i) CD\n",
    "print(\"i.)\\n\",add_mult_matrices(C, D, \"multiply\"))\n",
    "\n",
    "# j) CB\n",
    "print(\"j.)\\n\",add_mult_matrices(C, B, \"multiply\"))\n",
    "\n",
    "# k) CI\n",
    "print(\"k.)\\n\",add_mult_matrices(C, I, \"multiply\"))\n",
    "\n",
    "# l) AB^T\n",
    "print(\"l.)\\n\",add_mult_matrices(A, B.T, \"multiply\"))"
   ]
  },
  {
   "cell_type": "code",
   "execution_count": 163,
   "id": "1903ce16",
   "metadata": {},
   "outputs": [
    {
     "name": "stdout",
     "output_type": "stream",
     "text": [
      "Uppgift 10.2.2\n",
      "[[29 26]\n",
      " [26 42]]\n"
     ]
    }
   ],
   "source": [
    "A = np.array([[2, 3, 4], [5, 4, 1]])\n",
    "\n",
    "print(\"Uppgift 10.2.2\")\n",
    "print(add_mult_matrices(A, A.T, \"multiply\"))"
   ]
  },
  {
   "cell_type": "code",
   "execution_count": 172,
   "id": "f025a50e",
   "metadata": {},
   "outputs": [
    {
     "name": "stdout",
     "output_type": "stream",
     "text": [
      "Uppgift 10.2.3\n",
      "\n",
      "Resultatet av AB är \n",
      "[[ 4  7]\n",
      " [ 8 14]]\n",
      "\n",
      "och resultatet av AC är\n",
      "[[ 4  7]\n",
      " [ 8 14]]\n",
      "\n",
      "Vi ser att multiplikation av AB och AC ger samma resultat.\n",
      "Nu skall vi se vad BC ger.\n",
      "\n",
      "[[8 8]\n",
      " [4 9]]\n",
      "\n",
      "Vi ser BC inte ger samma resultat som de andra matrismultiplikationerna.\n"
     ]
    }
   ],
   "source": [
    "A = np.array([[1, 2], [2, 4]])\n",
    "B = np.array([[2, 1], [1, 3]])\n",
    "C = np.array([[4, 3], [0, 2]])\n",
    "\n",
    "print(\"Uppgift 10.2.3\")\n",
    "print()\n",
    "print(\"Resultatet av AB är \")\n",
    "print(add_mult_matrices(A, B, \"multiply\"))\n",
    "print()\n",
    "print(\"och resultatet av AC är\")\n",
    "print(add_mult_matrices(A, C, \"multiply\"))\n",
    "print()\n",
    "print(\"Vi ser att multiplikation av AB och AC ger samma resultat.\\nNu skall vi se vad BC ger.\")\n",
    "print()\n",
    "print(add_mult_matrices(B, C, \"multiply\"))\n",
    "print()\n",
    "print(\"Vi ser BC inte ger samma resultat som de andra matrismultiplikationerna.\")\n",
    "\n"
   ]
  },
  {
   "cell_type": "markdown",
   "id": "6a4a524f",
   "metadata": {},
   "source": [
    "### Copies and Views\n",
    "Read the following link: https://numpy.org/doc/stable/user/basics.copies.html"
   ]
  },
  {
   "cell_type": "markdown",
   "id": "6cbbeaf7",
   "metadata": {},
   "source": [
    "**Basic indexing creates a view, How can you check if v1 and v2 is a view or copy? If you change the last element in v2 to 123, will the last element in v1 be changed? Why?**"
   ]
  },
  {
   "cell_type": "code",
   "execution_count": 173,
   "id": "5b9ef4df",
   "metadata": {},
   "outputs": [
    {
     "name": "stdout",
     "output_type": "stream",
     "text": [
      "[0 1 2 3]\n",
      "[2 3]\n"
     ]
    }
   ],
   "source": [
    "v1 = np.arange(4)\n",
    "v2 = v1[-2:]\n",
    "print(v1)\n",
    "print(v2)"
   ]
  },
  {
   "cell_type": "markdown",
   "id": "06bc9ec3",
   "metadata": {},
   "source": [
    "Genom att använda .base så kan man se om det returnerar värdet None eller ej. Om det returnerar värdet None så är det en kopia."
   ]
  },
  {
   "cell_type": "code",
   "execution_count": 177,
   "id": "d21e471d",
   "metadata": {},
   "outputs": [
    {
     "data": {
      "text/plain": [
       "array([  2, 123])"
      ]
     },
     "execution_count": 177,
     "metadata": {},
     "output_type": "execute_result"
    }
   ],
   "source": [
    "v2[-1] = 123\n",
    "v2"
   ]
  },
  {
   "cell_type": "code",
   "execution_count": 178,
   "id": "d2440489",
   "metadata": {},
   "outputs": [
    {
     "name": "stdout",
     "output_type": "stream",
     "text": [
      "None\n",
      "[  0   1   2 123]\n"
     ]
    }
   ],
   "source": [
    "# The base attribute of a view returns the original array while it returns None for a copy.\n",
    "print(v1.base)\n",
    "print(v2.base)"
   ]
  },
  {
   "cell_type": "code",
   "execution_count": 179,
   "id": "c8752807",
   "metadata": {},
   "outputs": [
    {
     "name": "stdout",
     "output_type": "stream",
     "text": [
      "[  0   1   2 123]\n",
      "[  2 123]\n"
     ]
    }
   ],
   "source": [
    "# The last element in v1 will be changed aswell since v2 is a view, meaning they share the same data buffer.\n",
    "v2[-1] = 123\n",
    "print(v1)\n",
    "print(v2)"
   ]
  },
  {
   "cell_type": "code",
   "execution_count": null,
   "id": "3dd68221",
   "metadata": {},
   "outputs": [],
   "source": []
  }
 ],
 "metadata": {
  "kernelspec": {
   "display_name": "base",
   "language": "python",
   "name": "python3"
  },
  "language_info": {
   "codemirror_mode": {
    "name": "ipython",
    "version": 3
   },
   "file_extension": ".py",
   "mimetype": "text/x-python",
   "name": "python",
   "nbconvert_exporter": "python",
   "pygments_lexer": "ipython3",
   "version": "3.12.4"
  }
 },
 "nbformat": 4,
 "nbformat_minor": 5
}
